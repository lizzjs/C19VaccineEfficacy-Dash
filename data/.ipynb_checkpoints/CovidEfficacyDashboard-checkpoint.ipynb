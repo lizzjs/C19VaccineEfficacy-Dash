{
 "cells": [
  {
   "cell_type": "code",
   "execution_count": 1,
   "id": "4e761661",
   "metadata": {},
   "outputs": [
    {
     "ename": "ModuleNotFoundError",
     "evalue": "No module named 'geopandas'",
     "output_type": "error",
     "traceback": [
      "\u001b[0;31m---------------------------------------------------------------------------\u001b[0m",
      "\u001b[0;31mModuleNotFoundError\u001b[0m                       Traceback (most recent call last)",
      "Cell \u001b[0;32mIn[1], line 4\u001b[0m\n\u001b[1;32m      2\u001b[0m \u001b[38;5;28;01mimport\u001b[39;00m \u001b[38;5;21;01mpandas\u001b[39;00m \u001b[38;5;28;01mas\u001b[39;00m \u001b[38;5;21;01mpd\u001b[39;00m\n\u001b[1;32m      3\u001b[0m \u001b[38;5;28;01mimport\u001b[39;00m \u001b[38;5;21;01mnumpy\u001b[39;00m \u001b[38;5;28;01mas\u001b[39;00m \u001b[38;5;21;01mnp\u001b[39;00m\n\u001b[0;32m----> 4\u001b[0m \u001b[38;5;28;01mimport\u001b[39;00m \u001b[38;5;21;01mgeopandas\u001b[39;00m\n\u001b[1;32m      5\u001b[0m \u001b[38;5;28;01mimport\u001b[39;00m \u001b[38;5;21;01mpycountry\u001b[39;00m\n\u001b[1;32m      6\u001b[0m \u001b[38;5;28;01mfrom\u001b[39;00m \u001b[38;5;21;01mgeopy\u001b[39;00m \u001b[38;5;28;01mimport\u001b[39;00m Nominatim\n",
      "\u001b[0;31mModuleNotFoundError\u001b[0m: No module named 'geopandas'"
     ]
    }
   ],
   "source": [
    "#import libaries\n",
    "import pandas as pd\n",
    "import numpy as np\n",
    "import geopandas\n",
    "import pycountry\n",
    "from geopy import Nominatim\n",
    "import matplotlib.pyplot as plt\n",
    "import plotly.express as px\n",
    "import plotly.graph_objects as go\n"
   ]
  },
  {
   "cell_type": "markdown",
   "id": "1fefae33",
   "metadata": {},
   "source": [
    "### Data Loading and Preprocessing"
   ]
  },
  {
   "cell_type": "code",
   "execution_count": null,
   "id": "a07d1590",
   "metadata": {},
   "outputs": [],
   "source": [
    "#import vaccine data into dataframe\n",
    "df = pd.read_csv('VaccineData.csv')"
   ]
  },
  {
   "cell_type": "code",
   "execution_count": null,
   "id": "1c3b15c8",
   "metadata": {},
   "outputs": [],
   "source": [
    "#change Date col to datetime\n",
    "df['Date'] = pd.to_datetime(df['Date'])"
   ]
  },
  {
   "cell_type": "code",
   "execution_count": null,
   "id": "8a0b1aa3",
   "metadata": {},
   "outputs": [],
   "source": [
    "#review dataframe info (data types, nulls, etc)\n",
    "df.info()"
   ]
  },
  {
   "cell_type": "code",
   "execution_count": null,
   "id": "5a115703",
   "metadata": {},
   "outputs": [],
   "source": [
    "#drop European Union rows, since they are unneeded for this analysis\n",
    "df.drop(df.loc[df['Country'] == 'European Union'].index, inplace=True, axis=0)"
   ]
  },
  {
   "cell_type": "code",
   "execution_count": null,
   "id": "afefe9ca",
   "metadata": {},
   "outputs": [],
   "source": [
    "#drop columns that are not the alpha, delta, or omicron\n",
    "df.drop(df.columns[[4,5,8,9,10,11]], axis=1, inplace = True)"
   ]
  },
  {
   "cell_type": "code",
   "execution_count": null,
   "id": "034652fe",
   "metadata": {
    "scrolled": true
   },
   "outputs": [],
   "source": [
    "#find number of unique vaccines giving by vaccine manufacturer\n",
    "df.groupby('Country')['Vaccine_Manufacturer'].nunique()"
   ]
  },
  {
   "cell_type": "code",
   "execution_count": null,
   "id": "200a1772",
   "metadata": {},
   "outputs": [],
   "source": [
    "'''\n",
    "#function for finding country codes\n",
    "def countrycode(column):\n",
    "    CODE = []\n",
    "    for country in column:\n",
    "        try:\n",
    "            code=pycountry.countries.get(name=country).alpha_3\n",
    "            CODE.append(code)\n",
    "        except:\n",
    "            CODE.append('None')\n",
    "    return CODE\n",
    "'''"
   ]
  },
  {
   "cell_type": "code",
   "execution_count": null,
   "id": "8c2bfb10",
   "metadata": {},
   "outputs": [],
   "source": [
    "'''\n",
    "#create nominatim object to obtain lat long of country\n",
    "geolocator = Nominatim(user_agent = 'DSEI270_Proj1')\n",
    "\n",
    "#function to get lat and long from country name\n",
    "def latlong(column):\n",
    "    loclist = []\n",
    "    for country in column:\n",
    "        try:\n",
    "            loc = geolocator.geocode(country)\n",
    "            loclist.append([country, loc.latitude, loc.longitude])\n",
    "        except:\n",
    "            loclist.append(['None','None','None'])\n",
    "    return pd.DataFrame(loclist, columns=['code','lat','long'])\n",
    "'''"
   ]
  },
  {
   "cell_type": "code",
   "execution_count": null,
   "id": "97539448",
   "metadata": {},
   "outputs": [],
   "source": [
    "'''\n",
    "#create code column of 3 letter code for each country; used to merge with geopandas dataset\n",
    "df['code'] = countrycode(df['Country'])\n",
    "'''"
   ]
  },
  {
   "cell_type": "code",
   "execution_count": null,
   "id": "38beb0cd",
   "metadata": {},
   "outputs": [],
   "source": [
    "'''\n",
    "#import world dataset from geopandas, rename code column, and drop unneeded columns\n",
    "world = geopandas.read_file(geopandas.datasets.get_path('naturalearth_lowres'))\n",
    "world.columns = ['pop_est', 'continent', 'name', 'code', 'gdp_md_est', 'geometry']\n",
    "world = world[['continent','code','geometry']]\n",
    "'''"
   ]
  },
  {
   "cell_type": "code",
   "execution_count": null,
   "id": "d331d4f1",
   "metadata": {},
   "outputs": [],
   "source": [
    "'''\n",
    "#create dataframe of lat and long info for each unique country\n",
    "latlongdf = latlong(df['code'].unique())\n",
    "'''"
   ]
  },
  {
   "cell_type": "code",
   "execution_count": null,
   "id": "ebfb3d6f",
   "metadata": {},
   "outputs": [],
   "source": [
    "'''\n",
    "#merge geometry and lat/long dataframes to df\n",
    "df = pd.merge(df, world, on='code')\n",
    "df = pd.merge(df, latlongdf, on='code')\n",
    "'''"
   ]
  },
  {
   "cell_type": "code",
   "execution_count": null,
   "id": "5c8e6900",
   "metadata": {},
   "outputs": [],
   "source": [
    "'''\n",
    "#create geopandas dataframe\n",
    "gdf = geopandas.GeoDataFrame(df, geometry=df['geometry'])\n",
    "'''"
   ]
  },
  {
   "cell_type": "code",
   "execution_count": null,
   "id": "afe0423e",
   "metadata": {},
   "outputs": [],
   "source": [
    "#load efficacy data \n",
    "df_eff = pd.read_csv('Vaccine_Efficacy.csv')\n",
    "df_eff.drop(df_eff.columns[[1,2,5,6,7,8]], axis=1, inplace = True)"
   ]
  },
  {
   "cell_type": "code",
   "execution_count": null,
   "id": "efd92c8f",
   "metadata": {},
   "outputs": [],
   "source": [
    "#merge vaccine data and efficacy\n",
    "df = pd.merge(df,df_eff,on='Vaccine_Manufacturer',how='left')\n",
    "df.head()"
   ]
  },
  {
   "cell_type": "code",
   "execution_count": null,
   "id": "69efad12",
   "metadata": {},
   "outputs": [],
   "source": [
    "#Find latest date for each country/manuf pair\n",
    "df_latest = df.loc[df.groupby(['Country','Vaccine_Manufacturer']).Date.idxmax()]"
   ]
  },
  {
   "cell_type": "code",
   "execution_count": null,
   "id": "08d18274",
   "metadata": {},
   "outputs": [],
   "source": [
    "'''\n",
    "#added column for total vaccine of all manuf for specific date and country for proportion calculations\n",
    "total_vacc = df.groupby(['Country','Date']).sum()[['Total_Vaccinations']].rename(columns={'Total_Vaccinations':'Total'})\n",
    "df = pd.merge(df, total_vacc, how='left', on=['Country','Date'])\n",
    "'''"
   ]
  },
  {
   "cell_type": "code",
   "execution_count": null,
   "id": "72f00535",
   "metadata": {},
   "outputs": [],
   "source": [
    "'''\n",
    "#expanded dataframe of all dates and manuf \n",
    "mylist = ['Oxford/AstraZeneca','Sinopharm/Beijing','Sputnik V','Pfizer/BioNTech','CanSino','Moderna','Johnson&Johnson','Novavax','Valneva','Medicago','Sinovac','Covaxin']\n",
    "df_expanded = pd.DataFrame({'Date':pd.date_range(start='12/4/2020', end='10/18/2022')})\n",
    "df_expanded['Vaccine_Manufacturer'] = [mylist] * len(df_expanded)\n",
    "df_expanded = df_expanded.explode('Vaccine_Manufacturer')\n",
    "df_expanded = pd.merge(df_expanded,df,how='left',on=['Date','Vaccine_Manufacturer'])\n",
    "df_expanded = df_expanded.drop(columns=['geometry'])\n",
    "'''"
   ]
  },
  {
   "cell_type": "code",
   "execution_count": null,
   "id": "d9361621",
   "metadata": {},
   "outputs": [],
   "source": [
    "#Really bad function to fill in missing data for time series\n",
    "def reallybadcode(test):\n",
    "    dataframes =[]\n",
    "    for country in test['Country'].unique():\n",
    "        df = test[test['Country']==country]\n",
    "        manuflist = list(df['Vaccine_Manufacturer'].unique())\n",
    "        for manuf in manuflist:\n",
    "            df_sm = df[df['Vaccine_Manufacturer']==manuf]\n",
    "            df_expanded = pd.DataFrame({'Date':pd.date_range(start=df_sm.loc[df_sm.Date.idxmin()]['Date'], end=df.loc[df.Date.idxmax()]['Date'])})\n",
    "            df_expanded = pd.merge(df_expanded,df_sm,how='left',on=['Date'])\n",
    "            df_expanded = df_expanded.ffill()\n",
    "            dataframes.append(df_expanded)\n",
    "    return pd.concat(dataframes)\n"
   ]
  },
  {
   "cell_type": "code",
   "execution_count": null,
   "id": "6ca75130",
   "metadata": {},
   "outputs": [],
   "source": [
    "#expanded dataframe with forward filled data for all dates in timeseries \n",
    "df_expanded = reallybadcode(df)\n",
    "\n",
    "#added column for total vaccine of all manuf for specific date and country for proportion calculations\n",
    "total_vacc = df_expanded.groupby(['Country','Date']).sum()[['Total_Vaccinations']].rename(columns={'Total_Vaccinations':'Total'})\n",
    "\n",
    "#merge total vaccination per day calculation to df \n",
    "df = pd.merge(df,total_vacc,on=['Country','Date'],how='left')\n",
    "\n",
    "#df_expanded = pd.merge(df_expanded,total_vacc,how='left',on=['Country','Date']).sort_values(by=['Date'])"
   ]
  },
  {
   "cell_type": "code",
   "execution_count": null,
   "id": "48f1dbef",
   "metadata": {},
   "outputs": [],
   "source": [
    "#merge number vaccined (at least one dose) per 100 people to dataframe\n",
    "df_proportions = pd.read_csv('share-people-vaccinated-covid.csv')\n",
    "df_proportions.drop(['Code','145610-annotations'],inplace=True,axis=1)\n",
    "df_proportions.columns = ['Country','Date','overall vacc perc']\n",
    "df_proportions['Date'] = pd.to_datetime(df_proportions['Date'])\n",
    "df_proportions['overall vacc perc'] = df_proportions['overall vacc perc'] \n",
    "df = pd.merge(df,df_proportions,on=['Country','Date'],how='left')"
   ]
  },
  {
   "cell_type": "markdown",
   "id": "1b16350a",
   "metadata": {},
   "source": [
    "### Percentage of Vaccinations Not Offering Protection and Breakthrough Infection Calculation"
   ]
  },
  {
   "cell_type": "code",
   "execution_count": null,
   "id": "d765b9d0",
   "metadata": {},
   "outputs": [],
   "source": [
    "# percent of specific manuf vaccine out of the total vaccinations administered\n",
    "df['perc of manuf vacc'] = df['Total_Vaccinations'] / df['Total'] * 100\n",
    "\n",
    "# percent of the specific manuf vaccine that offers protection against infection based on efficacy \n",
    "df['perc infection protected alpha'] = df['perc of manuf vacc'] / 100 * df['Eff Infection Alpha']\n",
    "df['perc infection protected delta'] = df['perc of manuf vacc'] / 100 * df['Eff Infection Delta']\n",
    "df['perc infection protected omicron'] = df['perc of manuf vacc'] / 100 * df['Eff Infection Omicron']\n",
    "\n",
    "# percent of the specific manuf vaccine that does not offer protection against infection based on efficacy \n",
    "df['perc infection unprotected alpha'] = 100 - df['perc infection protected alpha']\n",
    "df['perc infection unprotected delta'] = 100 - df['perc infection protected delta']\n",
    "df['perc infection unprotected omicron'] = 100 - df['perc infection protected omicron']\n",
    "\n",
    "# breakthrough infection = percent of population that is succeptible to breakout infection based on vaccinations administered and efficacy rates\n",
    "df['breakthrough alpha'] = (100 - df['perc infection protected alpha']) * df['overall vacc perc'] / 100\n",
    "df['breakthrough delta'] = (100 - df['perc infection protected delta']) * df['overall vacc perc'] / 100\n",
    "df['breakthrough omicron'] = (100 - df['perc infection protected omicron']) * df['overall vacc perc'] / 100"
   ]
  },
  {
   "cell_type": "code",
   "execution_count": null,
   "id": "29a300dd",
   "metadata": {},
   "outputs": [],
   "source": [
    "df"
   ]
  },
  {
   "cell_type": "markdown",
   "id": "c8caf61a",
   "metadata": {},
   "source": [
    "### Line Area Graph for breakout infection "
   ]
  },
  {
   "cell_type": "code",
   "execution_count": null,
   "id": "3f47b4c7",
   "metadata": {
    "scrolled": false
   },
   "outputs": [],
   "source": [
    "px.line(df[df['Country']=='Estonia'].sort_values(['Vaccine_Manufacturer','Date']),x=\"Date\",y=\"Total_Vaccinations\",color='Vaccine_Manufacturer')"
   ]
  },
  {
   "cell_type": "code",
   "execution_count": null,
   "id": "7a010085",
   "metadata": {
    "scrolled": false
   },
   "outputs": [],
   "source": [
    "px.line(df, x='Date',y='Total',color='Country' )"
   ]
  },
  {
   "cell_type": "code",
   "execution_count": null,
   "id": "53a32033",
   "metadata": {
    "scrolled": false
   },
   "outputs": [],
   "source": []
  },
  {
   "cell_type": "code",
   "execution_count": null,
   "id": "2efcbc81",
   "metadata": {},
   "outputs": [],
   "source": []
  },
  {
   "cell_type": "code",
   "execution_count": null,
   "id": "53e5c986",
   "metadata": {},
   "outputs": [],
   "source": []
  }
 ],
 "metadata": {
  "kernelspec": {
   "display_name": "Python 3 (ipykernel)",
   "language": "python",
   "name": "python3"
  },
  "language_info": {
   "codemirror_mode": {
    "name": "ipython",
    "version": 3
   },
   "file_extension": ".py",
   "mimetype": "text/x-python",
   "name": "python",
   "nbconvert_exporter": "python",
   "pygments_lexer": "ipython3",
   "version": "3.9.1"
  }
 },
 "nbformat": 4,
 "nbformat_minor": 5
}
